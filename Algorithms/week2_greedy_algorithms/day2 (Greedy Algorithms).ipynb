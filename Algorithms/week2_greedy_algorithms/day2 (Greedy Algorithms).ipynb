{
 "cells": [
  {
   "cell_type": "markdown",
   "metadata": {},
   "source": [
    "#### Greedy Algorithm\n",
    "#### approach for finding the optimal solution\n",
    "#### Build up a solution piece by piece\n",
    "#### always choosing the next piece that offers the most obvious and immediate benefit\n",
    "\n"
   ]
  },
  {
   "cell_type": "markdown",
   "metadata": {},
   "source": [
    "\n",
    "    "
   ]
  },
  {
   "cell_type": "code",
   "execution_count": 11,
   "metadata": {},
   "outputs": [
    {
     "data": {
      "text/plain": [
       "12433"
      ]
     },
     "execution_count": 11,
     "metadata": {},
     "output_type": "execute_result"
    }
   ],
   "source": [
    "#  Largest Number\n",
    "def Largest(*n):\n",
    "    s = n[0]\n",
    "    for i in range(1,len(n)):\n",
    "        if n[i]>s:\n",
    "            s=n[i]\n",
    "    return s\n",
    "Largest(1,2,3,5,6,7,12433)\n"
   ]
  },
  {
   "cell_type": "code",
   "execution_count": 14,
   "metadata": {},
   "outputs": [
    {
     "data": {
      "text/plain": [
       "7"
      ]
     },
     "execution_count": 14,
     "metadata": {},
     "output_type": "execute_result"
    }
   ],
   "source": [
    "# Second Largest Number\n",
    "def second_largest(*n):\n",
    "    m = n[0]\n",
    "    s=m\n",
    "    for i in range(1,len(n)):\n",
    "        if n[i] > m:\n",
    "            s = m\n",
    "            m= n[i]\n",
    "        elif n[i] > s  and m != n[i]:\n",
    "            s=n[i]\n",
    "    return s\n",
    "second_largest(1,2,3,5,6,7,12433,7)"
   ]
  },
  {
   "cell_type": "code",
   "execution_count": 2,
   "metadata": {},
   "outputs": [
    {
     "name": "stdout",
     "output_type": "stream",
     "text": [
      "950\n",
      "400\n",
      "4\n",
      "200 375 550 750\n",
      "2\n"
     ]
    }
   ],
   "source": [
    "# Car Fueling Problem\n",
    "# Sliding window technique\n",
    "d = int(input())\n",
    "m = int(input())\n",
    "n= int(input())\n",
    "arr = [0] + list(map(int,input().split(\" \")))+[d]\n",
    "\n",
    "curr = num =0\n",
    "ans=0\n",
    "while curr <=n:\n",
    "    last = curr\n",
    "    while curr<=n and arr[curr+1] - arr[last] <=m:\n",
    "        curr+=1\n",
    "    if curr == last:\n",
    "        ans = -1\n",
    "        break\n",
    "    if curr<=n:\n",
    "        ans+=1\n",
    "print(ans)\n",
    "    "
   ]
  },
  {
   "cell_type": "markdown",
   "metadata": {},
   "source": [
    "#### https://leetcode.com/problems/car-pooling/\n",
    "\n",
    "# Car Pooling\n",
    "# timestamping -> calculate passenger at each time stamp and check if cap> original capacity return False else return True\n",
    "\n",
    "    \n",
    "    \n",
    "    \n",
    "    \n",
    "    \n",
    "    \n",
    "    \n",
    "\n",
    "    \n",
    "    \n"
   ]
  },
  {
   "cell_type": "code",
   "execution_count": 97,
   "metadata": {},
   "outputs": [
    {
     "name": "stdout",
     "output_type": "stream",
     "text": [
      "False\n"
     ]
    }
   ],
   "source": [
    "trips = [[2,1,5],[3,3,7]]\n",
    "n = len(trips)\n",
    "capacity = 4\n",
    "stack = []\n",
    "for i in trips:\n",
    "    stack.append([i[1],i[0]])\n",
    "    stack.append([i[2],-i[0]])\n",
    "stack.sort()\n",
    "cap = 0\n",
    "flag = True\n",
    "for time, head in stack:\n",
    "    cap+=head\n",
    "    if cap>capacity:\n",
    "        flag = False\n",
    "        break\n",
    "print(flag)\n",
    "    \n",
    "    \n",
    "    \n",
    "    "
   ]
  },
  {
   "cell_type": "code",
   "execution_count": 2,
   "metadata": {},
   "outputs": [
    {
     "name": "stdout",
     "output_type": "stream",
     "text": [
      "28\n",
      "6\n"
     ]
    }
   ],
   "source": [
    "# Money Change\n",
    "n = int(input())\n",
    "coins = 0\n",
    "while n>0:\n",
    "    if n>=10:\n",
    "        n=n-10\n",
    "        coins+=1\n",
    "    elif n>=5:\n",
    "        n-=5\n",
    "        coins+=1\n",
    "    elif n>=1:\n",
    "        n-=1\n",
    "        coins+=1\n",
    "print(coins)"
   ]
  },
  {
   "cell_type": "code",
   "execution_count": 51,
   "metadata": {},
   "outputs": [],
   "source": [
    "#https://leetcode.com/problems/coin-change/\n",
    "# Coin change problem\n",
    "def coin_change(coins,amount):\n",
    "    coins.sort(reverse=True)\n",
    "    c=0\n",
    "    while amount>=0 and coins:\n",
    "        if amount>=coins[0]:\n",
    "            amount-=coins[0]\n",
    "            print(coins,amount)\n",
    "            c+=1\n",
    "        else:\n",
    "            coins.pop(0)\n",
    "            print(coins)\n",
    "    if len(coins) != 0 or amount >0:\n",
    "        return -1\n",
    "    return c\n",
    "        \n",
    "            \n",
    "            \n",
    "        \n",
    "        "
   ]
  },
  {
   "cell_type": "code",
   "execution_count": 52,
   "metadata": {},
   "outputs": [
    {
     "name": "stdout",
     "output_type": "stream",
     "text": [
      "[419, 408, 186, 83] 5830\n",
      "[419, 408, 186, 83] 5411\n",
      "[419, 408, 186, 83] 4992\n",
      "[419, 408, 186, 83] 4573\n",
      "[419, 408, 186, 83] 4154\n",
      "[419, 408, 186, 83] 3735\n",
      "[419, 408, 186, 83] 3316\n",
      "[419, 408, 186, 83] 2897\n",
      "[419, 408, 186, 83] 2478\n",
      "[419, 408, 186, 83] 2059\n",
      "[419, 408, 186, 83] 1640\n",
      "[419, 408, 186, 83] 1221\n",
      "[419, 408, 186, 83] 802\n",
      "[419, 408, 186, 83] 383\n",
      "[408, 186, 83]\n",
      "[186, 83]\n",
      "[186, 83] 197\n",
      "[186, 83] 11\n",
      "[83]\n",
      "[]\n"
     ]
    }
   ],
   "source": [
    "\n",
    "l = [186,419,83,408]\n",
    "m = 6249\n",
    "ds = coin_change(l,m)"
   ]
  },
  {
   "cell_type": "code",
   "execution_count": 50,
   "metadata": {},
   "outputs": [
    {
     "data": {
      "text/plain": [
       "-1"
      ]
     },
     "execution_count": 50,
     "metadata": {},
     "output_type": "execute_result"
    }
   ],
   "source": [
    "ds"
   ]
  },
  {
   "cell_type": "code",
   "execution_count": 53,
   "metadata": {},
   "outputs": [],
   "source": [
    "# By dynamic Programming\n",
    "# Minimum Number of coins\n",
    "\n",
    "def mincoin(coins,amount):\n",
    "    dp =[float('inf')]*(amount+1)\n",
    "    dp[0] = 0\n",
    "    for i in coins:\n",
    "        for x in range(i,amount+1):\n",
    "            dp[x] = min(dp[x],dp[x-i]+1)\n",
    "    return dp[-1] if dp[-1] != float('inf') else -1\n"
   ]
  },
  {
   "cell_type": "code",
   "execution_count": 70,
   "metadata": {},
   "outputs": [],
   "source": [
    "#  including nth coin and excluding nth coin\n",
    "\n",
    "def coinchange(a,n,c):\n",
    "    \n",
    "    if a==0:\n",
    "        return 1\n",
    "    if a<0:\n",
    "        return 0\n",
    "    if n<=0 and a>=1:\n",
    "        return 0\n",
    "    return coinchange(a,n-1,c)+coinchange(a-c[n-1],n,c)"
   ]
  },
  {
   "cell_type": "code",
   "execution_count": 75,
   "metadata": {},
   "outputs": [
    {
     "data": {
      "text/plain": [
       "4"
      ]
     },
     "execution_count": 75,
     "metadata": {},
     "output_type": "execute_result"
    }
   ],
   "source": [
    "coinchange(4,3,[1,2,3])"
   ]
  },
  {
   "cell_type": "markdown",
   "metadata": {},
   "source": [
    "# Fractional kanpsack problem"
   ]
  },
  {
   "cell_type": "markdown",
   "metadata": {},
   "source": [
    "###     \n",
    "        Given total number of items along with (their weight and profit) and maximum capcity of knapsack. find the max \n",
    "        profit that can be made by collecting item in such a way \n",
    "    that number of item is minimum.\n",
    "    Maxmimize Profit\n",
    "    minimize items "
   ]
  },
  {
   "cell_type": "code",
   "execution_count": 92,
   "metadata": {},
   "outputs": [],
   "source": [
    "#Maximum Value of the Loot\n",
    "\n",
    "def knapsack(n,capacity,items):  #--> Items -> [[profit,weight],----]\n",
    "    items.sort(key = lambda x:x[0]/x[1],reverse = True)\n",
    "    profit = 0\n",
    "    for i in items:\n",
    "        if capacity>=i[1]:\n",
    "            profit+=i[0]\n",
    "            capacity-=i[1]\n",
    "        else:\n",
    "            frac = capacity/i[1]\n",
    "            profit += i[0] * frac\n",
    "    return round(profit,4)\n",
    "        \n",
    "    \n"
   ]
  },
  {
   "cell_type": "code",
   "execution_count": 93,
   "metadata": {},
   "outputs": [
    {
     "data": {
      "text/plain": [
       "180.0"
      ]
     },
     "execution_count": 93,
     "metadata": {},
     "output_type": "execute_result"
    }
   ],
   "source": [
    "knapsack(3,50,[[60,20],[100,50],[120,30]])"
   ]
  },
  {
   "cell_type": "code",
   "execution_count": 94,
   "metadata": {},
   "outputs": [
    {
     "data": {
      "text/plain": [
       "166.6667"
      ]
     },
     "execution_count": 94,
     "metadata": {},
     "output_type": "execute_result"
    }
   ],
   "source": [
    "knapsack(1,10,[[500,30]])"
   ]
  },
  {
   "cell_type": "code",
   "execution_count": 95,
   "metadata": {},
   "outputs": [],
   "source": [
    "#Maximum Advertisement Revenue\n",
    "\n",
    "def revenue(arr1,arr2):\n",
    "    arr1.sort()\n",
    "    arr2.sort()\n",
    "    s=0\n",
    "    for i,j in zip(arr1[::-1],arr2[::-1]):\n",
    "        s+=i*j\n",
    "    return s\n",
    "\n",
    "        "
   ]
  },
  {
   "cell_type": "code",
   "execution_count": 96,
   "metadata": {},
   "outputs": [
    {
     "data": {
      "text/plain": [
       "23"
      ]
     },
     "execution_count": 96,
     "metadata": {},
     "output_type": "execute_result"
    }
   ],
   "source": [
    "n1 = [1,3,-5]\n",
    "n2 = [-2,4,1]\n",
    "revenue(n1,n2)"
   ]
  },
  {
   "cell_type": "markdown",
   "metadata": {},
   "source": [
    "##### Collecting signatures\n",
    "# Covering Points in a segment"
   ]
  },
  {
   "cell_type": "code",
   "execution_count": 100,
   "metadata": {},
   "outputs": [],
   "source": [
    "def collect(n,arr):\n",
    "    arr.sort(key = lambda x:x[1])\n",
    "    start = arr[0][-1]\n",
    "    point = [start]\n",
    "    for i in range(1,n):\n",
    "        if start < arr[i][0] or start > arr[i][1]:\n",
    "            start = arr[i][-1]\n",
    "            point.append(start)\n",
    "    return point\n",
    "    "
   ]
  },
  {
   "cell_type": "code",
   "execution_count": 101,
   "metadata": {},
   "outputs": [
    {
     "data": {
      "text/plain": [
       "[3, 6]"
      ]
     },
     "execution_count": 101,
     "metadata": {},
     "output_type": "execute_result"
    }
   ],
   "source": [
    "collect(4,[[1, 3], [2, 5], [5, 6], [4, 7]])"
   ]
  },
  {
   "cell_type": "markdown",
   "metadata": {},
   "source": [
    "### Maximum Number of Prizes\n",
    "\n",
    "# Calculating powerset "
   ]
  },
  {
   "cell_type": "code",
   "execution_count": 32,
   "metadata": {},
   "outputs": [
    {
     "data": {
      "text/plain": [
       "[1, 2, 5]"
      ]
     },
     "execution_count": 32,
     "metadata": {},
     "output_type": "execute_result"
    }
   ],
   "source": [
    "def prizes(n,arr):\n",
    "    c=0\n",
    "    x=[]\n",
    "    for i in range(n-1):\n",
    "        sd = arr[:i+1]\n",
    "        _sum = sum(sd)\n",
    "        for j in range(i+1,n):\n",
    "            if _sum + arr[j-1] == n:\n",
    "                fg = sd+[j]\n",
    "                if len(fg) >c:\n",
    "                    c=len(fg)\n",
    "                    x = fg\n",
    "    return fg\n",
    "    \n",
    "                \n",
    "            \n",
    "            \n",
    "            \n",
    "        \n",
    "        \n",
    "            \n",
    "prizes(8,list(range(1,8)))"
   ]
  },
  {
   "cell_type": "code",
   "execution_count": 9,
   "metadata": {},
   "outputs": [
    {
     "data": {
      "text/plain": [
       "[1, 2]"
      ]
     },
     "execution_count": 9,
     "metadata": {},
     "output_type": "execute_result"
    }
   ],
   "source": [
    "def power_set(n,arr): #--> Calculating powerset\n",
    "    cd =0\n",
    "    sol = []\n",
    "    for i in range(n):\n",
    "        for j in range(n-i):\n",
    "            ds = arr[j:j+i+1]\n",
    "            if sum(ds) == n:\n",
    "                if len(ds) >= cd:\n",
    "                    cd = len(ds)\n",
    "                    sol = ds\n",
    "    return sol\n",
    "power_set(3,list(range(1,4)))"
   ]
  },
  {
   "cell_type": "code",
   "execution_count": 13,
   "metadata": {},
   "outputs": [
    {
     "name": "stdout",
     "output_type": "stream",
     "text": [
      "[1, 2, 5]\n"
     ]
    }
   ],
   "source": [
    "def power_set(n,arr):\n",
    "    cd = 0\n",
    "    sol = []\n",
    "    powerset = 2**(n)\n",
    "    for i in range(powerset):\n",
    "        s= []\n",
    "        for j in range(n):\n",
    "            if((i & (1<<j)) >0):\n",
    "                s.append(arr[j])\n",
    "        if s:\n",
    "            if sum(s) == n:\n",
    "                if len(s) >= cd:\n",
    "                    cd = len(s)\n",
    "                    sol = s\n",
    "    print(sol)\n",
    "power_set(8,list(range(1,9)))           "
   ]
  },
  {
   "cell_type": "markdown",
   "metadata": {},
   "source": [
    "####  Maximum Salary\n",
    "\n"
   ]
  },
  {
   "cell_type": "code",
   "execution_count": 70,
   "metadata": {},
   "outputs": [
    {
     "name": "stdout",
     "output_type": "stream",
     "text": [
      "21 2\n"
     ]
    },
    {
     "data": {
      "text/plain": [
       "'221'"
      ]
     },
     "execution_count": 70,
     "metadata": {},
     "output_type": "execute_result"
    }
   ],
   "source": [
    "def maximum(i,j,n,m):\n",
    "    print(n,m)\n",
    "    n1 = str(n)\n",
    "    m1 = str(m)\n",
    "    return (i,j,n) if int(n1+m1) >= int(m1+n1) else (j,i,m)\n",
    "\n",
    "def salary(n,arr):\n",
    "    arr.sort(reverse = True)\n",
    "    sol = \"\"\n",
    "    for i in range(n-1):\n",
    "        p,a,m = maximum(i,i+1,arr[i],arr[i+1])\n",
    "        if p!=i:\n",
    "            arr[p],arr[a] = arr[a],arr[p]\n",
    "        sol+=str(m)\n",
    "    return sol+str(arr[-1])\n",
    "        \n",
    "\n",
    "salary(2,[2,21])"
   ]
  },
  {
   "cell_type": "code",
   "execution_count": 64,
   "metadata": {},
   "outputs": [
    {
     "data": {
      "text/plain": [
       "True"
      ]
     },
     "execution_count": 64,
     "metadata": {},
     "output_type": "execute_result"
    }
   ],
   "source": [
    "'99'>'106'"
   ]
  },
  {
   "cell_type": "code",
   "execution_count": null,
   "metadata": {},
   "outputs": [],
   "source": []
  }
 ],
 "metadata": {
  "kernelspec": {
   "display_name": "Python 3",
   "language": "python",
   "name": "python3"
  },
  "language_info": {
   "codemirror_mode": {
    "name": "ipython",
    "version": 3
   },
   "file_extension": ".py",
   "mimetype": "text/x-python",
   "name": "python",
   "nbconvert_exporter": "python",
   "pygments_lexer": "ipython3",
   "version": "3.7.3"
  }
 },
 "nbformat": 4,
 "nbformat_minor": 2
}
