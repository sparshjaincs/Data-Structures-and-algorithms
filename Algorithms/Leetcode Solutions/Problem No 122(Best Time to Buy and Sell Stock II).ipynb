{
 "cells": [
  {
   "cell_type": "markdown",
   "metadata": {},
   "source": [
    "###### https://leetcode.com/problems/best-time-to-buy-and-sell-stock-ii/"
   ]
  },
  {
   "cell_type": "code",
   "execution_count": 8,
   "metadata": {},
   "outputs": [
    {
     "data": {
      "text/plain": [
       "0"
      ]
     },
     "execution_count": 8,
     "metadata": {},
     "output_type": "execute_result"
    }
   ],
   "source": [
    "def sandb(n,arr):\n",
    "    flag = 0\n",
    "    _sum=0\n",
    "    for i in range(n):\n",
    "        curr = i\n",
    "        last = curr\n",
    "        if flag>i:\n",
    "            continue\n",
    "        else:\n",
    "            for j in range(i,n-1):\n",
    "                if arr[j+1] >arr[j]:\n",
    "                    last+=1\n",
    "\n",
    "                else:\n",
    "                    break\n",
    "            if curr!=last:\n",
    "\n",
    "                _sum+=arr[last]-arr[curr]\n",
    "                flag = last\n",
    "    return _sum\n",
    "            \n",
    "                \n",
    "sandb(5,[7,6,4,3,1])\n",
    "            "
   ]
  },
  {
   "cell_type": "code",
   "execution_count": null,
   "metadata": {},
   "outputs": [],
   "source": [
    "#-->  Geeks for Geeks Challenge\n",
    "t = int(input())\n",
    "while t>0:\n",
    "    n,m = map(int,input().split(\" \"))\n",
    "    c1 = list(map(int,input().split(\" \")))\n",
    "    c2 = list(map(int,input().split(\" \")))\n",
    "    sol = 'C1' if sum(c1) > sum(c2) else 'C2'\n",
    "    print(sol)\n",
    "    t-=1\n",
    "    \n",
    "#---------\n"
   ]
  },
  {
   "cell_type": "code",
   "execution_count": 2,
   "metadata": {},
   "outputs": [
    {
     "name": "stdout",
     "output_type": "stream",
     "text": [
      "0\n"
     ]
    }
   ],
   "source": [
    "i = int(input())\n",
    "while i>0:\n",
    "    s1 = input()\n",
    "    data = s1.count('gfg')\n",
    "    sol = data if data else -1\n",
    "    print(sol)\n",
    "    i-=1"
   ]
  },
  {
   "cell_type": "markdown",
   "metadata": {},
   "source": [
    "##### https://leetcode.com/problems/special-array-with-x-elements-greater-than-or-equal-x/"
   ]
  },
  {
   "cell_type": "code",
   "execution_count": 3,
   "metadata": {},
   "outputs": [],
   "source": [
    "def count(self,n,arr):\n",
    "        c = 0\n",
    "        for i in arr:\n",
    "            if i>=n:\n",
    "                c+=1\n",
    "        return c\n",
    "def specialArray(self, nums) -> int:\n",
    "    n = len(nums)\n",
    "    for i in range(1,n+1):\n",
    "        c = self.count(i,nums)\n",
    "        if c==i:\n",
    "            return i\n",
    "\n",
    "    return -1"
   ]
  },
  {
   "cell_type": "markdown",
   "metadata": {},
   "source": [
    "#### https://leetcode.com/problems/maximum-subarray/"
   ]
  },
  {
   "cell_type": "code",
   "execution_count": 2,
   "metadata": {},
   "outputs": [
    {
     "data": {
      "text/plain": [
       "6"
      ]
     },
     "execution_count": 2,
     "metadata": {},
     "output_type": "execute_result"
    }
   ],
   "source": [
    "# Kandane algorithm\n",
    "def kandane(arr):\n",
    "    maxsum = submax = 0\n",
    "    for i in range(len(arr)):\n",
    "        submax = submax+arr[i]\n",
    "        if maxsum < submax:\n",
    "            maxsum = submax\n",
    "        if submax <0:\n",
    "            submax = 0\n",
    "    return maxsum\n",
    "nums = [-2,1,-3,4,-1,2,1,-5,4]\n",
    "kandane(nums)\n",
    "\n"
   ]
  },
  {
   "cell_type": "markdown",
   "metadata": {},
   "source": [
    "##### https://leetcode.com/problems/median-of-two-sorted-arrays/"
   ]
  },
  {
   "cell_type": "code",
   "execution_count": 5,
   "metadata": {},
   "outputs": [
    {
     "data": {
      "text/plain": [
       "2.5"
      ]
     },
     "execution_count": 5,
     "metadata": {},
     "output_type": "execute_result"
    }
   ],
   "source": [
    "def mediann(arr1,arr2):\n",
    "    arr = arr1+arr2\n",
    "    arr.sort()\n",
    "    n = len(arr)\n",
    "    if n%2 == 0:\n",
    "        median = (arr[(n//2)-1] + arr[(n//2)])/2\n",
    "    else:\n",
    "        median = arr[((n+1)//2)-1]\n",
    "    return median\n",
    "\n",
    "nums1 = [1,2]\n",
    "nums2 = [3,4]\n",
    "mediann(nums1,nums2)"
   ]
  },
  {
   "cell_type": "markdown",
   "metadata": {},
   "source": [
    "#### https://leetcode.com/problems/sum-of-subsequence-widths/"
   ]
  },
  {
   "cell_type": "code",
   "execution_count": 8,
   "metadata": {},
   "outputs": [
    {
     "data": {
      "text/plain": [
       "6"
      ]
     },
     "execution_count": 8,
     "metadata": {},
     "output_type": "execute_result"
    }
   ],
   "source": [
    "def width(arr):\n",
    "    return max(arr) - min(arr)\n",
    "def combination(arr):\n",
    "    n = len(arr)\n",
    "    powerset = 2**n\n",
    "    sol = 0\n",
    "    for i in range(powerset):\n",
    "        s = []\n",
    "        for j in range(n):\n",
    "            if ((i&(1<<j))>0):\n",
    "                s.append(arr[j])\n",
    "        if s:\n",
    "            val = width(s)\n",
    "            sol+=val\n",
    "    return sol\n",
    "n = [2,1,3]\n",
    "combination(n)\n",
    "            \n",
    "            \n",
    "                "
   ]
  },
  {
   "cell_type": "markdown",
   "metadata": {},
   "source": [
    "##### https://leetcode.com/explore/challenge/card/october-leetcoding-challenge/559/week-1-october-1st-october-7th/3483/\n"
   ]
  },
  {
   "cell_type": "code",
   "execution_count": 21,
   "metadata": {},
   "outputs": [
    {
     "data": {
      "text/plain": [
       "2"
      ]
     },
     "execution_count": 21,
     "metadata": {},
     "output_type": "execute_result"
    }
   ],
   "source": [
    "# Remove Covered Intervals\n",
    "def asd(arr):\n",
    "    arr.sort(key = lambda x:x[1])\n",
    "    sol = []\n",
    "    for i in range(len(arr)):\n",
    "        for j in range(len(arr)):\n",
    "            if i!=j:\n",
    "                if arr[i][0] >= arr[j][0] and arr[i][1] <= arr[j][1]:\n",
    "                    sol.append(arr[i])\n",
    "                    break\n",
    "        \n",
    "    return len(arr) - len(sol)\n",
    "s = [[3,10],[4,10],[5,11]]\n",
    "asd(s)"
   ]
  },
  {
   "cell_type": "code",
   "execution_count": null,
   "metadata": {},
   "outputs": [],
   "source": []
  }
 ],
 "metadata": {
  "kernelspec": {
   "display_name": "Python 3",
   "language": "python",
   "name": "python3"
  },
  "language_info": {
   "codemirror_mode": {
    "name": "ipython",
    "version": 3
   },
   "file_extension": ".py",
   "mimetype": "text/x-python",
   "name": "python",
   "nbconvert_exporter": "python",
   "pygments_lexer": "ipython3",
   "version": "3.7.3"
  }
 },
 "nbformat": 4,
 "nbformat_minor": 2
}
