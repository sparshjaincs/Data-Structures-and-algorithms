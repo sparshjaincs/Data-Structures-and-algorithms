{
 "cells": [
  {
   "cell_type": "markdown",
   "metadata": {},
   "source": [
    "###### https://leetcode.com/problems/best-time-to-buy-and-sell-stock-ii/"
   ]
  },
  {
   "cell_type": "code",
   "execution_count": 8,
   "metadata": {},
   "outputs": [
    {
     "data": {
      "text/plain": [
       "0"
      ]
     },
     "execution_count": 8,
     "metadata": {},
     "output_type": "execute_result"
    }
   ],
   "source": [
    "def sandb(n,arr):\n",
    "    flag = 0\n",
    "    _sum=0\n",
    "    for i in range(n):\n",
    "        curr = i\n",
    "        last = curr\n",
    "        if flag>i:\n",
    "            continue\n",
    "        else:\n",
    "            for j in range(i,n-1):\n",
    "                if arr[j+1] >arr[j]:\n",
    "                    last+=1\n",
    "\n",
    "                else:\n",
    "                    break\n",
    "            if curr!=last:\n",
    "\n",
    "                _sum+=arr[last]-arr[curr]\n",
    "                flag = last\n",
    "    return _sum\n",
    "            \n",
    "                \n",
    "sandb(5,[7,6,4,3,1])\n",
    "            "
   ]
  },
  {
   "cell_type": "code",
   "execution_count": null,
   "metadata": {},
   "outputs": [],
   "source": [
    "#-->  Geeks for Geeks Challenge\n",
    "t = int(input())\n",
    "while t>0:\n",
    "    n,m = map(int,input().split(\" \"))\n",
    "    c1 = list(map(int,input().split(\" \")))\n",
    "    c2 = list(map(int,input().split(\" \")))\n",
    "    sol = 'C1' if sum(c1) > sum(c2) else 'C2'\n",
    "    print(sol)\n",
    "    t-=1\n",
    "    \n",
    "#---------\n"
   ]
  },
  {
   "cell_type": "code",
   "execution_count": 2,
   "metadata": {},
   "outputs": [
    {
     "name": "stdout",
     "output_type": "stream",
     "text": [
      "0\n"
     ]
    }
   ],
   "source": [
    "i = int(input())\n",
    "while i>0:\n",
    "    s1 = input()\n",
    "    data = s1.count('gfg')\n",
    "    sol = data if data else -1\n",
    "    print(sol)\n",
    "    i-=1"
   ]
  },
  {
   "cell_type": "markdown",
   "metadata": {},
   "source": [
    "##### https://leetcode.com/problems/special-array-with-x-elements-greater-than-or-equal-x/"
   ]
  },
  {
   "cell_type": "code",
   "execution_count": 3,
   "metadata": {},
   "outputs": [],
   "source": [
    "def count(self,n,arr):\n",
    "        c = 0\n",
    "        for i in arr:\n",
    "            if i>=n:\n",
    "                c+=1\n",
    "        return c\n",
    "def specialArray(self, nums) -> int:\n",
    "    n = len(nums)\n",
    "    for i in range(1,n+1):\n",
    "        c = self.count(i,nums)\n",
    "        if c==i:\n",
    "            return i\n",
    "\n",
    "    return -1"
   ]
  },
  {
   "cell_type": "code",
   "execution_count": null,
   "metadata": {},
   "outputs": [],
   "source": []
  }
 ],
 "metadata": {
  "kernelspec": {
   "display_name": "Python 3",
   "language": "python",
   "name": "python3"
  },
  "language_info": {
   "codemirror_mode": {
    "name": "ipython",
    "version": 3
   },
   "file_extension": ".py",
   "mimetype": "text/x-python",
   "name": "python",
   "nbconvert_exporter": "python",
   "pygments_lexer": "ipython3",
   "version": "3.7.3"
  }
 },
 "nbformat": 4,
 "nbformat_minor": 2
}
