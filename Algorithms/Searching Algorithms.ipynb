{
 "cells": [
  {
   "cell_type": "markdown",
   "metadata": {},
   "source": [
    "### Linear Search or Sequential search\n",
    "##### Time Complexity : O(n)"
   ]
  },
  {
   "cell_type": "code",
   "execution_count": 1,
   "metadata": {},
   "outputs": [
    {
     "data": {
      "text/plain": [
       "6"
      ]
     },
     "execution_count": 1,
     "metadata": {},
     "output_type": "execute_result"
    }
   ],
   "source": [
    "\n",
    "\n",
    "def linear(arr,target):\n",
    "    for i in range(len(arr)):\n",
    "        if arr[i] == target:\n",
    "            return i\n",
    "    return -1\n",
    "\n",
    "arr = [1,2,3,4,5,6,7,8,9]\n",
    "target = 7\n",
    "linear(arr,target)"
   ]
  },
  {
   "cell_type": "markdown",
   "metadata": {},
   "source": [
    "###  Binary Search\n",
    "#### Time Complexity : O(log(n))"
   ]
  },
  {
   "cell_type": "code",
   "execution_count": 14,
   "metadata": {},
   "outputs": [
    {
     "data": {
      "text/plain": [
       "-1"
      ]
     },
     "execution_count": 14,
     "metadata": {},
     "output_type": "execute_result"
    }
   ],
   "source": [
    "def binary(arr,low,high,key):\n",
    "    if target > arr[-1]:\n",
    "            return -1\n",
    "    if low<=high:\n",
    "        mid = low + (high-low)//2\n",
    "        print(mid,low,high)\n",
    "        if arr[mid] == key:\n",
    "            return mid\n",
    "        elif key < arr[mid]:\n",
    "            return binary(arr,low,mid-1,key)\n",
    "        else:\n",
    "            return binary(arr,mid+1,high,key)\n",
    "    else:\n",
    "        return -1\n",
    "arr = [-1,0,3,5,9,12]\n",
    "target = 13\n",
    "binary(arr,0,len(arr),target)\n"
   ]
  },
  {
   "cell_type": "code",
   "execution_count": null,
   "metadata": {},
   "outputs": [],
   "source": []
  }
 ],
 "metadata": {
  "kernelspec": {
   "display_name": "Python 3",
   "language": "python",
   "name": "python3"
  },
  "language_info": {
   "codemirror_mode": {
    "name": "ipython",
    "version": 3
   },
   "file_extension": ".py",
   "mimetype": "text/x-python",
   "name": "python",
   "nbconvert_exporter": "python",
   "pygments_lexer": "ipython3",
   "version": "3.7.3"
  }
 },
 "nbformat": 4,
 "nbformat_minor": 2
}
