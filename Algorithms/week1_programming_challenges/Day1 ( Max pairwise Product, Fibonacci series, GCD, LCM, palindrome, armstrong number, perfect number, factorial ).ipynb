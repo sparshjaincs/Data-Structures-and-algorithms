{
 "cells": [
  {
   "cell_type": "code",
   "execution_count": null,
   "metadata": {},
   "outputs": [],
   "source": [
    "#  Max pairwise product\n",
    "n = list(map(int, input().split(\" \")))\n",
    "prod = 0 \n",
    "for i in range(len(n)-1):\n",
    "    val = n[i]*n[i+1]\n",
    "    if val > prod:\n",
    "        prod = val\n",
    "        \n",
    "print(prod)\n",
    "    "
   ]
  },
  {
   "cell_type": "code",
   "execution_count": null,
   "metadata": {},
   "outputs": [],
   "source": [
    "# Fibonacci Numbers\n",
    "\n",
    "# recursion\n",
    "\n",
    "def fib(n):\n",
    "    if n==0:\n",
    "        return 0\n",
    "    if n==1:\n",
    "        return 1\n",
    "    return fib(n-1)+fib(n-2)\n",
    "\n",
    "fib(5)"
   ]
  },
  {
   "cell_type": "code",
   "execution_count": null,
   "metadata": {},
   "outputs": [],
   "source": []
  },
  {
   "cell_type": "code",
   "execution_count": 32,
   "metadata": {},
   "outputs": [],
   "source": [
    "# Dyanmic programming\n",
    "\n",
    "def fib(n):\n",
    "    dp = [0]*(n+1)\n",
    "    dp[1] = 1\n",
    "    for i in range(2, n+1):\n",
    "        dp[i] = dp[i-1]+dp[i-2]\n",
    "    return dp[n]"
   ]
  },
  {
   "cell_type": "code",
   "execution_count": 33,
   "metadata": {},
   "outputs": [
    {
     "data": {
      "text/plain": [
       "5"
      ]
     },
     "execution_count": 33,
     "metadata": {},
     "output_type": "execute_result"
    }
   ],
   "source": [
    "fib(5)\n"
   ]
  },
  {
   "cell_type": "code",
   "execution_count": 34,
   "metadata": {},
   "outputs": [
    {
     "name": "stdout",
     "output_type": "stream",
     "text": [
      "331\n"
     ]
    },
    {
     "data": {
      "text/plain": [
       "9"
      ]
     },
     "execution_count": 34,
     "metadata": {},
     "output_type": "execute_result"
    }
   ],
   "source": [
    "#Last Digit of large Fibonacci Number\n",
    "\n",
    "n = int(input())\n",
    "fib(n)%10\n"
   ]
  },
  {
   "cell_type": "code",
   "execution_count": 37,
   "metadata": {},
   "outputs": [
    {
     "name": "stdout",
     "output_type": "stream",
     "text": [
      "3\n"
     ]
    },
    {
     "data": {
      "text/plain": [
       "4"
      ]
     },
     "execution_count": 37,
     "metadata": {},
     "output_type": "execute_result"
    }
   ],
   "source": [
    "# Last Digit of the Sum of Fibonacci Numbers\n",
    "\n",
    "# F(n-1) = F(n+1) - F(n)\n",
    "\n",
    "\n",
    "#F(n-2) = F(n) - F(n-1)\n",
    "#F(1) = F(3) - F(2)\n",
    "# F(0) = F(2) - F(1)\n",
    "\n",
    "#S(n-1)  = F(n+1) - F(1)\n",
    "#S(n) = F(n+2) - F(1)\n",
    "\n",
    "\n",
    "# F0+F1+F2+F3+---------------+Fn = F(n+2) - F(1)\n",
    "\n",
    "\n",
    "n = int(input())\n",
    "sum = fib(n+2) - fib(1)\n",
    "sum"
   ]
  },
  {
   "cell_type": "code",
   "execution_count": 40,
   "metadata": {},
   "outputs": [
    {
     "name": "stdout",
     "output_type": "stream",
     "text": [
      "3 7\n"
     ]
    },
    {
     "data": {
      "text/plain": [
       "31"
      ]
     },
     "execution_count": 40,
     "metadata": {},
     "output_type": "execute_result"
    }
   ],
   "source": [
    "# Last Digit of the Sum of Fibonacci Numbers Again\n",
    "#  F0 + F1 + F2 + \n",
    "x,y = map(int,input().split(\" \"))\n",
    "sol = fib(y+2) - fib(x+1)\n",
    "sol"
   ]
  },
  {
   "cell_type": "code",
   "execution_count": 48,
   "metadata": {},
   "outputs": [
    {
     "name": "stdout",
     "output_type": "stream",
     "text": [
      "7\n"
     ]
    },
    {
     "data": {
      "text/plain": [
       "273"
      ]
     },
     "execution_count": 48,
     "metadata": {},
     "output_type": "execute_result"
    }
   ],
   "source": [
    "# Last Digit of the Sum of Squares of Fibonacci Numbers\n",
    "\n",
    "#  -> formula = F0**2 + F1**2 + F3**2 + -------Fn**2 = F(n)*(F(n)+F(n-1))\n",
    "def fib(n):\n",
    "    dp = [0]*(n+1)\n",
    "    dp[1] = 1\n",
    "    for i in range(2, n+1):\n",
    "        dp[i] = dp[i-1]+dp[i-2]\n",
    "    return dp\n",
    "n = int(input())\n",
    "sd  = fib(n)\n",
    "sol = sd[-1] *(sd[-1]+sd[-2])\n",
    "sol"
   ]
  },
  {
   "cell_type": "code",
   "execution_count": null,
   "metadata": {},
   "outputs": [],
   "source": [
    "# GCD\n",
    "\n",
    "def gcd(a,b):\n",
    "    if a==0:\n",
    "        return b\n",
    "    return gcd(b%a,a)"
   ]
  },
  {
   "cell_type": "code",
   "execution_count": null,
   "metadata": {},
   "outputs": [],
   "source": [
    "gcd(10,12)"
   ]
  },
  {
   "cell_type": "code",
   "execution_count": null,
   "metadata": {},
   "outputs": [],
   "source": [
    "# LCM\n",
    "\n",
    "# -> lCM * HCF =  Prod of two numbers\n",
    "\n",
    "a =10\n",
    "b =20\n",
    "lcm = a*b/gcd(a,b)\n",
    "lcm"
   ]
  },
  {
   "cell_type": "code",
   "execution_count": null,
   "metadata": {},
   "outputs": [],
   "source": [
    "#--> Armstrong Number\n",
    "\n",
    "def arm(n):\n",
    "    s = 0\n",
    "    k = n\n",
    "    while n:\n",
    "        a = n%10\n",
    "        s+=a**3\n",
    "        n = n//10\n",
    "        \n",
    "    if s == k:\n",
    "        return True\n",
    "    return False\n",
    "        \n",
    "arm(15)"
   ]
  },
  {
   "cell_type": "code",
   "execution_count": null,
   "metadata": {},
   "outputs": [],
   "source": [
    "#-> Perfect Number\n",
    "\n",
    "def perfect(n):\n",
    "    s = 0\n",
    "    for i in range(1,n//2+1):\n",
    "        if n%i==0:\n",
    "            s+=i\n",
    "    if s == n:\n",
    "        return True\n",
    "    return False\n",
    "perfect(7)    "
   ]
  },
  {
   "cell_type": "code",
   "execution_count": null,
   "metadata": {},
   "outputs": [],
   "source": [
    "#-> Palindrome\n",
    "\n",
    "#1.\n",
    "def palindrome(n):\n",
    "    if n == n[::-1]:\n",
    "        return True\n",
    "    return False\n",
    "\n",
    "palindrome('12321')\n",
    "\n",
    "#2.\n",
    "def palin(n):\n",
    "    i=0\n",
    "    l=len(n)-1\n",
    "    while i<=l:\n",
    "        if n[i] != n[l]:\n",
    "            return False\n",
    "        i+=1\n",
    "        l-=1\n",
    "    return True\n",
    "\n",
    "palin('12321')\n",
    "        "
   ]
  },
  {
   "cell_type": "code",
   "execution_count": null,
   "metadata": {},
   "outputs": [],
   "source": [
    "# Factorial\n",
    "\n",
    "def fact(n):\n",
    "    if n==1:\n",
    "        return 1\n",
    "    return n*fact(n-1)"
   ]
  },
  {
   "cell_type": "code",
   "execution_count": null,
   "metadata": {},
   "outputs": [],
   "source": [
    "fact(5)"
   ]
  },
  {
   "cell_type": "code",
   "execution_count": null,
   "metadata": {},
   "outputs": [],
   "source": [
    "#dp\n",
    "\n",
    "def fact(n):\n",
    "    s= 1\n",
    "    for i in range(1,n+1):\n",
    "        s*=i\n",
    "        \n",
    "    return s"
   ]
  },
  {
   "cell_type": "code",
   "execution_count": null,
   "metadata": {},
   "outputs": [],
   "source": [
    "fact(6)"
   ]
  },
  {
   "cell_type": "code",
   "execution_count": null,
   "metadata": {},
   "outputs": [],
   "source": []
  }
 ],
 "metadata": {
  "kernelspec": {
   "display_name": "Python 3",
   "language": "python",
   "name": "python3"
  },
  "language_info": {
   "codemirror_mode": {
    "name": "ipython",
    "version": 3
   },
   "file_extension": ".py",
   "mimetype": "text/x-python",
   "name": "python",
   "nbconvert_exporter": "python",
   "pygments_lexer": "ipython3",
   "version": "3.7.3"
  }
 },
 "nbformat": 4,
 "nbformat_minor": 2
}
