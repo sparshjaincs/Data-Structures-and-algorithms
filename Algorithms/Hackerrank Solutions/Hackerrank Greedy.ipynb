{
 "cells": [
  {
   "cell_type": "markdown",
   "metadata": {},
   "source": [
    "#### Problem Largest Permutation\n",
    "# https://www.hackerrank.com/challenges/largest-permutation/problem"
   ]
  },
  {
   "cell_type": "code",
   "execution_count": null,
   "metadata": {},
   "outputs": [],
   "source": [
    "def largest(n,arr,swap):\n",
    "    i=0\n",
    "    while swap>0:\n",
    "        index = arr.index(max(arr[i:]))\n",
    "        arr[i],arr[index] = arr[index],arr[i]\n",
    "        i+=1\n",
    "        swap-=1\n",
    "    return arr\n",
    "n=4\n",
    "swap = 1\n",
    "arr = [1,2,3,4]\n",
    "largest(n,arr,swap)"
   ]
  },
  {
   "cell_type": "markdown",
   "metadata": {},
   "source": [
    "##### https://www.hackerearth.com/practice/data-structures/arrays/1-d/practice-problems/algorithm/digitial-sequence-ee0ea080/description/"
   ]
  },
  {
   "cell_type": "code",
   "execution_count": null,
   "metadata": {},
   "outputs": [],
   "source": [
    "def sequence(n,arr):\n",
    "    c=0\n",
    "    sol = []\n",
    "    for j in range(10):\n",
    "        d = []\n",
    "        k = 0\n",
    "        for i in arr:\n",
    "            \n",
    "            if j in list(map(int,str(i).lstrip('0'))):\n",
    "                k+=1\n",
    "                d.append(i)\n",
    "        if k>c:\n",
    "            c=k\n",
    "            sol = d\n",
    "    return sol"
   ]
  },
  {
   "cell_type": "code",
   "execution_count": null,
   "metadata": {},
   "outputs": [],
   "source": [
    "arr = [12,11,3,4,5]\n",
    "n = 5\n",
    "sequence(n,arr)"
   ]
  },
  {
   "cell_type": "code",
   "execution_count": null,
   "metadata": {},
   "outputs": [],
   "source": [
    "# https://www.hackerearth.com/practice/data-structures/arrays/1-d/practice-problems/algorithm/pairs-having-similar-element-eed098aa/"
   ]
  },
  {
   "cell_type": "code",
   "execution_count": null,
   "metadata": {},
   "outputs": [],
   "source": [
    "def transitive(arr):\n",
    "    sol = []\n",
    "    for i in range(len(arr)):\n",
    "        for j in range(i+1,len(arr)):\n",
    "            if arr[i][0] == arr[j][0]:\n",
    "                sol.append([arr[i][1],arr[j][1]])\n",
    "            elif arr[i][0] ==  arr[j][1]:\n",
    "                sol.append([arr[i][1],arr[j][0]])\n",
    "            elif arr[i][1] == arr[j][0]:\n",
    "                sol.append([arr[i][0],arr[j][1]])\n",
    "            elif arr[i][1] == arr[j][1]:\n",
    "                sol.append([arr[i][0],arr[j][0]])\n",
    "            else:\n",
    "                pass\n",
    "    return sol+arr\n",
    "            \n",
    "def similar(n,arr):\n",
    "    sol = []\n",
    "    for i in range(n):\n",
    "        for j in range(i+1,n):\n",
    "            if arr[i]-1 == arr[j] or arr[i]+1  == arr[j]:\n",
    "                if i+1 not in sol:\n",
    "                    sol.append(i+1)\n",
    "                if j+1 not in sol:\n",
    "                    sol.append(j+1)\n",
    "   \n",
    "    \n",
    "    return len(sol)"
   ]
  },
  {
   "cell_type": "code",
   "execution_count": null,
   "metadata": {},
   "outputs": [],
   "source": [
    "arr = [1,3,5,7,8,2,5]\n",
    "n = 7\n",
    "similar(n,arr)"
   ]
  },
  {
   "cell_type": "code",
   "execution_count": null,
   "metadata": {},
   "outputs": [],
   "source": [
    "def similar(n,arr):\n",
    "    sol = []\n",
    "    for i in range(n):\n",
    "        x= arr[i+1:]\n",
    "        if arr[i]-1 in x:\n",
    "            sol.append([i+1,x.index(arr[i]-1)+i+2])\n",
    "        if arr[i]+1 in x:\n",
    "            sol.append([i+1,x.index(arr[i]+1)+i+2])\n",
    "    #ans = transitive(sol)\n",
    "    return sol\n",
    "            \n",
    "        \n",
    "similar(n,arr)"
   ]
  },
  {
   "cell_type": "markdown",
   "metadata": {},
   "source": [
    "### longest continous array\n",
    "        "
   ]
  },
  {
   "cell_type": "code",
   "execution_count": 4,
   "metadata": {},
   "outputs": [
    {
     "ename": "IndexError",
     "evalue": "list index out of range",
     "output_type": "error",
     "traceback": [
      "\u001b[1;31m---------------------------------------------------------------------------\u001b[0m",
      "\u001b[1;31mIndexError\u001b[0m                                Traceback (most recent call last)",
      "\u001b[1;32m<ipython-input-4-6e1befde29f1>\u001b[0m in \u001b[0;36m<module>\u001b[1;34m\u001b[0m\n\u001b[0;32m     17\u001b[0m \u001b[1;33m\u001b[0m\u001b[0m\n\u001b[0;32m     18\u001b[0m \u001b[1;33m\u001b[0m\u001b[0m\n\u001b[1;32m---> 19\u001b[1;33m \u001b[0marray\u001b[0m\u001b[1;33m(\u001b[0m\u001b[1;36m5\u001b[0m\u001b[1;33m,\u001b[0m\u001b[1;33m[\u001b[0m\u001b[1;36m1\u001b[0m\u001b[1;33m,\u001b[0m\u001b[1;36m2\u001b[0m\u001b[1;33m,\u001b[0m\u001b[1;36m3\u001b[0m\u001b[1;33m,\u001b[0m\u001b[1;36m4\u001b[0m\u001b[1;33m,\u001b[0m\u001b[1;36m5\u001b[0m\u001b[1;33m]\u001b[0m\u001b[1;33m+\u001b[0m\u001b[1;33m[\u001b[0m\u001b[0mfloat\u001b[0m\u001b[1;33m(\u001b[0m\u001b[1;34m'inf'\u001b[0m\u001b[1;33m)\u001b[0m\u001b[1;33m]\u001b[0m\u001b[1;33m)\u001b[0m\u001b[1;33m\u001b[0m\u001b[1;33m\u001b[0m\u001b[0m\n\u001b[0m",
      "\u001b[1;32m<ipython-input-4-6e1befde29f1>\u001b[0m in \u001b[0;36marray\u001b[1;34m(n, arr)\u001b[0m\n\u001b[0;32m      6\u001b[0m         \u001b[0mk\u001b[0m\u001b[1;33m=\u001b[0m\u001b[1;36m0\u001b[0m\u001b[1;33m\u001b[0m\u001b[1;33m\u001b[0m\u001b[0m\n\u001b[0;32m      7\u001b[0m \u001b[1;33m\u001b[0m\u001b[0m\n\u001b[1;32m----> 8\u001b[1;33m         \u001b[1;32mwhile\u001b[0m \u001b[0mc\u001b[0m\u001b[1;33m<=\u001b[0m\u001b[0mn\u001b[0m \u001b[1;32mand\u001b[0m \u001b[0marr\u001b[0m\u001b[1;33m[\u001b[0m\u001b[0ml\u001b[0m\u001b[1;33m+\u001b[0m\u001b[1;36m1\u001b[0m\u001b[1;33m]\u001b[0m\u001b[1;33m>\u001b[0m\u001b[0marr\u001b[0m\u001b[1;33m[\u001b[0m\u001b[0ml\u001b[0m\u001b[1;33m]\u001b[0m\u001b[1;33m:\u001b[0m\u001b[1;33m\u001b[0m\u001b[1;33m\u001b[0m\u001b[0m\n\u001b[0m\u001b[0;32m      9\u001b[0m             \u001b[1;32mif\u001b[0m \u001b[0ml\u001b[0m\u001b[1;33m==\u001b[0m\u001b[0mn\u001b[0m\u001b[1;33m:\u001b[0m\u001b[1;33m\u001b[0m\u001b[1;33m\u001b[0m\u001b[0m\n\u001b[0;32m     10\u001b[0m                 \u001b[1;32mbreak\u001b[0m\u001b[1;33m\u001b[0m\u001b[1;33m\u001b[0m\u001b[0m\n",
      "\u001b[1;31mIndexError\u001b[0m: list index out of range"
     ]
    }
   ],
   "source": [
    "def array(n,arr):\n",
    "    c=0\n",
    "    while c<n:\n",
    "        l = c\n",
    "        k = 0\n",
    "        while arr[l+1]>arr[l]:\n",
    "            k+=1\n",
    "            l+=1\n",
    "            \n",
    "\n",
    "            \n",
    "array(5,[1,2,3,4,5])"
   ]
  },
  {
   "cell_type": "code",
   "execution_count": 10,
   "metadata": {},
   "outputs": [
    {
     "name": "stdout",
     "output_type": "stream",
     "text": [
      "10\n",
      "2\n",
      "3\n",
      "1 1 2 3 4 9 8 27 16 81\n"
     ]
    }
   ],
   "source": [
    "# TCS NQT coding questions\n",
    "n=int(input())\n",
    "r1 = int(input())\n",
    "r2 = int(input())\n",
    "ev = 0\n",
    "od = 0\n",
    "a=1\n",
    "sol = []\n",
    "for i in range(n):\n",
    "    if i%2==0:\n",
    "        sol.append(a*(r1**ev))\n",
    "        ev+=1\n",
    "        \n",
    "    else:\n",
    "        sol.append(a*(r2**od))\n",
    "        od+=1\n",
    "print(*sol)"
   ]
  },
  {
   "cell_type": "code",
   "execution_count": 15,
   "metadata": {},
   "outputs": [
    {
     "data": {
      "text/plain": [
       "6"
      ]
     },
     "execution_count": 15,
     "metadata": {},
     "output_type": "execute_result"
    }
   ],
   "source": [
    "def gcd(a,b):\n",
    "    if b==0:\n",
    "        return a\n",
    "    return gcd(b,a%b)"
   ]
  },
  {
   "cell_type": "code",
   "execution_count": 29,
   "metadata": {},
   "outputs": [
    {
     "name": "stdout",
     "output_type": "stream",
     "text": [
      "['a']\n"
     ]
    },
    {
     "data": {
      "text/plain": [
       "'a'"
      ]
     },
     "execution_count": 29,
     "metadata": {},
     "output_type": "execute_result"
    }
   ],
   "source": [
    "# Longest Palindromic string\n",
    "def arr(n,a):\n",
    "    k=0\n",
    "    s = []\n",
    "    for i in range(n):\n",
    "        for j in range(n,i,-1):\n",
    "            d = a[i:j]\n",
    "            f = d[::-1]\n",
    "            print(d)\n",
    "            if d==f:\n",
    "                if len(d)>k:\n",
    "                    k=len(d)\n",
    "                    s = d\n",
    "    return \"\".join(s)\n",
    "            \n",
    "s = \"a\"\n",
    "arr(len(s),list(s))"
   ]
  },
  {
   "cell_type": "code",
   "execution_count": 35,
   "metadata": {},
   "outputs": [
    {
     "data": {
      "text/plain": [
       "[1, 10, 11, 12, 2, 3, 4, 5, 6, 7, 8, 9]"
      ]
     },
     "execution_count": 35,
     "metadata": {},
     "output_type": "execute_result"
    }
   ],
   "source": [
    "def lexi(n):\n",
    "    sol = []\n",
    "    for i in range(1,n):\n",
    "        sol.append(str(i))\n",
    "    sol.sort()\n",
    "    sol = list(map(int,sol))\n",
    "    return sol\n",
    "lexi(13)"
   ]
  },
  {
   "cell_type": "code",
   "execution_count": 63,
   "metadata": {},
   "outputs": [],
   "source": [
    "def unique(s):\n",
    "    x1 = []\n",
    "    s = list(s)\n",
    "    if len(s) == 1:\n",
    "        return 0\n",
    "    for i in range(len(s)):\n",
    "        x = s[i+1:]\n",
    "        \n",
    "        if s[i] not in x and s[i] not in x1 :\n",
    "            return i\n",
    "        else:\n",
    "            x1.append(s[i])\n",
    "    return -1\n",
    "        "
   ]
  },
  {
   "cell_type": "code",
   "execution_count": 79,
   "metadata": {},
   "outputs": [
    {
     "name": "stdout",
     "output_type": "stream",
     "text": [
      "\n"
     ]
    },
    {
     "data": {
      "text/plain": [
       "-1"
      ]
     },
     "execution_count": 79,
     "metadata": {},
     "output_type": "execute_result"
    }
   ],
   "source": []
  },
  {
   "cell_type": "code",
   "execution_count": 87,
   "metadata": {},
   "outputs": [
    {
     "name": "stdout",
     "output_type": "stream",
     "text": [
      "{'d': 1}\n",
      "d\n"
     ]
    },
    {
     "data": {
      "text/plain": [
       "0"
      ]
     },
     "execution_count": 87,
     "metadata": {},
     "output_type": "execute_result"
    }
   ],
   "source": [
    "def unique(s):\n",
    "    d=dict()\n",
    "    for i in s:\n",
    "        if i not in list(d.keys()):\n",
    "            d[i] = 1\n",
    "        else:\n",
    "            d[i]+=1\n",
    "    print(d)\n",
    "    s1 = \"\"\n",
    "    for i,j in d.items():\n",
    "        if j==1:\n",
    "            s1=i\n",
    "    print(s1)\n",
    "    if s1:\n",
    "        return list(s).index(s1)\n",
    "    else:\n",
    "        return -1\n",
    "\n",
    "unique(\"d\")"
   ]
  },
  {
   "cell_type": "code",
   "execution_count": 78,
   "metadata": {},
   "outputs": [
    {
     "data": {
      "text/plain": [
       "[1, 2, 3]"
      ]
     },
     "execution_count": 78,
     "metadata": {},
     "output_type": "execute_result"
    }
   ],
   "source": [
    "d ={1:1,2:2,3:3}\n",
    "list(d.keys())"
   ]
  },
  {
   "cell_type": "code",
   "execution_count": 103,
   "metadata": {},
   "outputs": [
    {
     "name": "stdout",
     "output_type": "stream",
     "text": [
      "['\\n\\tsubdir1\\n\\t\\tfile1', '\\n\\t\\tsubsubdir1\\n\\tsubdir2\\n\\t\\tsubsubdir2\\n\\t\\t\\tfile2', '']\n",
      "/subdir1/file1\n",
      "/subsubdir1/subdir2/subsubdir2/file2\n",
      "\n"
     ]
    },
    {
     "data": {
      "text/plain": [
       "36"
      ]
     },
     "execution_count": 103,
     "metadata": {},
     "output_type": "execute_result"
    }
   ],
   "source": [
    "def directory(s):\n",
    "    if len(s) <=2:\n",
    "        return 0\n",
    "    else:\n",
    "        k=0\n",
    "        s = s[3:]\n",
    "        s= s.split(\".ext\")\n",
    "        print(s)\n",
    "        for i in s:\n",
    "            a = \"\".join(i)\n",
    "            a = a.replace(\"\\t\",\"\")\n",
    "            a = a.replace(\"\\n\",\"/\")\n",
    "            print(a)\n",
    "            sd = len(a)\n",
    "            if sd>k:\n",
    "                k=sd\n",
    "            \n",
    "        return k\n",
    "s = \"dir\\n\\tsubdir1\\n\\t\\tfile1.ext\\n\\t\\tsubsubdir1\\n\\tsubdir2\\n\\t\\tsubsubdir2\\n\\t\\t\\tfile2.ext\"\n",
    "directory(s)\n",
    "    "
   ]
  },
  {
   "cell_type": "markdown",
   "metadata": {},
   "source": [
    "#### https://www.hackerearth.com/practice/data-structures/arrays/1-d/practice-problems/algorithm/hamiltonian-and-lagrangian/"
   ]
  },
  {
   "cell_type": "code",
   "execution_count": 117,
   "metadata": {},
   "outputs": [],
   "source": [
    "def hamil(arr):\n",
    "    n = len(arr)\n",
    "    top = arr.pop()\n",
    "    sol = [top]\n",
    "    while arr:\n",
    "        k = arr.pop()\n",
    "        if k>top:\n",
    "            top = k\n",
    "            sol.append(k)\n",
    "    return sol[::-1]\n",
    "            "
   ]
  },
  {
   "cell_type": "code",
   "execution_count": 124,
   "metadata": {},
   "outputs": [],
   "source": [
    "sol = hamil([16,17,4,3,5,2])"
   ]
  },
  {
   "cell_type": "code",
   "execution_count": 125,
   "metadata": {},
   "outputs": [
    {
     "name": "stdout",
     "output_type": "stream",
     "text": [
      "17 5 2\n"
     ]
    }
   ],
   "source": [
    "print(*sol)"
   ]
  },
  {
   "cell_type": "code",
   "execution_count": null,
   "metadata": {},
   "outputs": [],
   "source": []
  }
 ],
 "metadata": {
  "kernelspec": {
   "display_name": "Python 3",
   "language": "python",
   "name": "python3"
  },
  "language_info": {
   "codemirror_mode": {
    "name": "ipython",
    "version": 3
   },
   "file_extension": ".py",
   "mimetype": "text/x-python",
   "name": "python",
   "nbconvert_exporter": "python",
   "pygments_lexer": "ipython3",
   "version": "3.7.3"
  }
 },
 "nbformat": 4,
 "nbformat_minor": 2
}
