{
 "cells": [
  {
   "cell_type": "markdown",
   "metadata": {},
   "source": [
    "### Arrays\n",
    "1. Array is a collection of elements of same data type in continous memory location.\n",
    "2. Size of array must be predefined (ie. In order to create array one must know the size of it before declaration.)\n",
    "3. Better Cache locality.\n",
    "4. We can access any value with the help of indexing.\n",
    "5. Array allows random access of elements.\n",
    "6. Disadvantage : Once the size of array is declared we cant change its size because of static memory allocated to it.\n",
    "4. runtime Compelxity:\n",
    "    4.1 Searching : O(n)\n",
    "    4.2 Insertion : O(n)\n",
    "    4.3 Deletion  : O(n)\n",
    "    4.4 Accessing : O(1)\n",
    "    \n",
    "    \n",
    "### Difference between array and linked list\n",
    "    1. array is static in nature while linked list is dynamic in nature\n",
    "    2. Size of array must known before declaration while No any problem of size.\n",
    "    3. we cant change the size of array once declared but we can grow linked list as it is dynamic in nature.\n",
    "    4. Indexing in possible but not possible in linked list.\n",
    "    5. Memory wastage may happens but no problem of memory wastage\n",
    "    6. linked list requires more size than array in implementation.\n",
    "    7. Array has better cache locality than linked list.\n",
    "    8. Insertion and deletion in array is more costly than in linked list.\n",
    "    9. Elements are stored in continous memory allocation but in linked list elements are stored randomly\n",
    "    \n",
    " \n",
    "### Differnce between array and list (python)\n",
    "        1. array stores the elements of same data type but in list we can store element of any data type\n",
    "        2. arithmetic operation can be performed in array but not in linked list.\n",
    "        3. array is better for large sequence while linked list is better for small sequence.\n",
    "        \n",
    "    \n",
    "    \n",
    "    \n"
   ]
  },
  {
   "cell_type": "markdown",
   "metadata": {},
   "source": [
    "### Largest and second largest number"
   ]
  },
  {
   "cell_type": "code",
   "execution_count": 130,
   "metadata": {},
   "outputs": [
    {
     "data": {
      "text/plain": [
       "(5, 4)"
      ]
     },
     "execution_count": 130,
     "metadata": {},
     "output_type": "execute_result"
    }
   ],
   "source": [
    "def landsm(arr):\n",
    "    m = arr[0]\n",
    "    for i in range(1,len(arr)):\n",
    "        if arr[i]>m:\n",
    "            sm = m\n",
    "            m = arr[i]\n",
    "        if arr[i] > sm and m!=arr[i]:\n",
    "            sm = arr[i]\n",
    "    return (m,sm)\n",
    "landsm([1,2,3,4,0,5,5])"
   ]
  },
  {
   "cell_type": "code",
   "execution_count": 148,
   "metadata": {},
   "outputs": [
    {
     "name": "stdout",
     "output_type": "stream",
     "text": [
      "[[0], [4], [0, 4], [3], [0, 3], [4, 3], [0, 4, 3], [0], [0, 0], [4, 0], [0, 4, 0], [3, 0], [0, 3, 0], [4, 3, 0], [0, 4, 3, 0]]\n"
     ]
    }
   ],
   "source": [
    "# All Combinations of list\n",
    "\n",
    "arr = [0,4,3,0]\n",
    "n=4\n",
    "powerset = 2**(n)\n",
    "sol = []\n",
    "for i in range(powerset):\n",
    "    s= []\n",
    "    for j in range(n):\n",
    "        if((i & (1<<j)) >0):\n",
    "            s.append(arr[j])\n",
    "    if s:\n",
    "        sol.append(s)\n",
    "        \n",
    "print(sol)\n",
    "    \n",
    "\n",
    "        "
   ]
  },
  {
   "cell_type": "markdown",
   "metadata": {},
   "source": [
    "##### https://leetcode.com/problems/two-sum/\n",
    "##### Problem Two Sum"
   ]
  },
  {
   "cell_type": "code",
   "execution_count": 165,
   "metadata": {},
   "outputs": [
    {
     "data": {
      "text/plain": [
       "[0, 3]"
      ]
     },
     "execution_count": 165,
     "metadata": {},
     "output_type": "execute_result"
    }
   ],
   "source": [
    "def twosum(n,num,target)->list:\n",
    "    powerset = 2**n\n",
    "    dol = []\n",
    "    for i in range(powerset):\n",
    "        s = []\n",
    "        k = []\n",
    "        for j in range(n):\n",
    "            if ((i&(1<<j))>0):\n",
    "                s.append(num[j])\n",
    "                k.append(j)\n",
    "        if s:\n",
    "            if sum(s) == target and len(k)>1:\n",
    "                dol.append(k)\n",
    "    #l = [num.index(sol[0][0]),num.index(sol[0][1])]\n",
    "                \n",
    "    \n",
    "    return dol[0]\n",
    "nums = [0,4,3,0]\n",
    "target = 0\n",
    "n = len(nums)\n",
    "twosum(n,nums,target)\n",
    "                "
   ]
  },
  {
   "cell_type": "code",
   "execution_count": 156,
   "metadata": {},
   "outputs": [
    {
     "name": "stdout",
     "output_type": "stream",
     "text": [
      "[0, 3]\n"
     ]
    }
   ],
   "source": [
    "# -- > second method\n",
    "nums = [0,4,3,0]\n",
    "target = 0\n",
    "n = len(nums)\n",
    "for i in range(n):\n",
    "    for k in range(i+1,n):\n",
    "        if nums[i] == target - nums[j]:\n",
    "            print([i,j])\n",
    "            break\n",
    "        \n",
    "        \n",
    "        \n",
    "        \n",
    "        \n",
    "        \n",
    "        \n",
    "        \n",
    "       \n",
    "        "
   ]
  },
  {
   "cell_type": "code",
   "execution_count": 108,
   "metadata": {},
   "outputs": [],
   "source": [
    "\n",
    "\n",
    "    "
   ]
  },
  {
   "cell_type": "code",
   "execution_count": null,
   "metadata": {},
   "outputs": [],
   "source": []
  }
 ],
 "metadata": {
  "kernelspec": {
   "display_name": "Python 3",
   "language": "python",
   "name": "python3"
  },
  "language_info": {
   "codemirror_mode": {
    "name": "ipython",
    "version": 3
   },
   "file_extension": ".py",
   "mimetype": "text/x-python",
   "name": "python",
   "nbconvert_exporter": "python",
   "pygments_lexer": "ipython3",
   "version": "3.7.3"
  }
 },
 "nbformat": 4,
 "nbformat_minor": 2
}
