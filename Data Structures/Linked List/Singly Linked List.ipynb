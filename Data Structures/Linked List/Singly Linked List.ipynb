{
 "cells": [
  {
   "cell_type": "markdown",
   "metadata": {},
   "source": [
    "## It is a linear data structure that is basically a collection of data elements in which each data element is connected with each other with the help of links.\n",
    "Links are basically a pointer which points to another data element\n",
    "\n",
    "Data elements is composed of two parts.\n",
    "1. Data Part : Used to store information.\n",
    "2. Link Part : Stores the address of next data element.\n",
    "    \n",
    "    \n",
    "Time Complexity:\n",
    "    1. Insertion : o(1)\n",
    "    2. Deletion  : o(1)\n",
    "    3. Searching : o(n)\n",
    "    4. Access    : o(n)\n",
    "        \n",
    "1. Dynamic in nature.\n",
    "2. No Memory wastage\n",
    "3. Random access of elements is not possible.\n",
    "4. Reversing of linked list is very costly.\n",
    "5. Quick sort is not used for sorting because linked list has slow random access locality thats why we use merge sort instead of quick sort.\n",
    "6. Requires for more memory for construction since each data elements has two parts.\n",
    "\n",
    "\n"
   ]
  },
  {
   "cell_type": "markdown",
   "metadata": {},
   "source": [
    "#### Implementation"
   ]
  },
  {
   "cell_type": "code",
   "execution_count": 466,
   "metadata": {},
   "outputs": [],
   "source": [
    "class Node:\n",
    "    def __init__(self,data):\n",
    "        self.data = data\n",
    "        self.next = None\n",
    "        \n",
    "        \n",
    "class List:\n",
    "    def __init__(self):\n",
    "        self.head = None\n",
    "        self.size = 0\n",
    "        \n",
    "    def __len__(self):\n",
    "        return self.size\n",
    "    \n",
    "    def traverse(self):\n",
    "        curr = self.head\n",
    "        while curr:\n",
    "            print(curr.data)\n",
    "            curr = curr.next\n",
    "            \n",
    "    def at_begin(self,data):  #-> Insertion at beginning\n",
    "        new_node = Node(data)\n",
    "        if self.head is None:\n",
    "            self.head = new_node\n",
    "        else:\n",
    "            new_node.next = self.head\n",
    "            self.head = new_node\n",
    "        self.size+=1\n",
    "            \n",
    "    def at_last(self,data):  #-> Insertion at last\n",
    "        new_node = Node(data)\n",
    "        if self.head is None:\n",
    "            self.head = new_node\n",
    "        else:\n",
    "            curr = self.head\n",
    "            while curr.next:\n",
    "                curr = curr.next\n",
    "                \n",
    "            curr.next = new_node\n",
    "        self.size +=1\n",
    "        \n",
    "            \n",
    "    def in_between(self,data,position):  #--> Insertion in between\n",
    "        new_node = Node(data)\n",
    "        if self.head is None:\n",
    "            self.head = new_node\n",
    "        else:\n",
    "            curr = prev = self.head\n",
    "            counter = 0\n",
    "            while curr:\n",
    "                counter+=1\n",
    "                if counter == position:\n",
    "                    break\n",
    "                \n",
    "                prev = curr\n",
    "                curr = curr.next\n",
    "                \n",
    "            new_node.next = prev.next\n",
    "            prev.next = new_node\n",
    "        self.size+=1\n",
    "        \n",
    "    def del_last(self):  #-. Delete Last\n",
    "        if self.head is None:\n",
    "            return \"Can't Delete from empty list\"\n",
    "        else:\n",
    "            if self.size == 1:\n",
    "                self.head = None\n",
    "                self.size-=1\n",
    "                return\n",
    "            curr = prev= self.head\n",
    "            while curr.next:\n",
    "                prev = curr\n",
    "                curr = curr.next\n",
    "            prev.next = None\n",
    "            self.size -=1\n",
    "        \n",
    "    def del_start(self):\n",
    "        if self.head is None:\n",
    "            return \"Can't Delete from empty list\"\n",
    "        else:\n",
    "            self.head = self.head.next\n",
    "            self.size-=1\n",
    "            \n",
    "    def search(self,data):\n",
    "        if self.head is None:\n",
    "            return \"Can't search is empty List\"\n",
    "        else:\n",
    "            curr = self.head\n",
    "            counter = 0\n",
    "            while curr:\n",
    "                if curr.data == data:\n",
    "                    \n",
    "                    return counter\n",
    "                counter+=1\n",
    "                curr = curr.next\n",
    "            return 'Not Found'\n",
    "        \n",
    "    def center(self):\n",
    "        slow = fast = self.head\n",
    "        while fast.next  and fast.next.next:\n",
    "            slow = slow.next\n",
    "            fast = fast.next.next\n",
    "        return slow\n",
    "    \n",
    "    def reverse(self):\n",
    "        prev = None\n",
    "        curr=self.head\n",
    "        while curr:\n",
    "            next1 = curr.next\n",
    "            curr.next = prev\n",
    "            prev = curr\n",
    "            curr = next1\n",
    "        self.head = prev\n",
    "        \n",
    "        \n",
    "        \n",
    "        \n",
    "    #----------------- Merge Sort ------------------------------------\n",
    "    \n",
    "    \n",
    "    def merge(self,Node):\n",
    "        if Node is None or Node.next is None:\n",
    "            return Node\n",
    "        else:\n",
    "            \n",
    "        \n",
    "    \n",
    "        \n",
    "    \n",
    "        \n",
    "            \n",
    "        \n",
    "        \n",
    "                \n",
    "        \n",
    "            \n",
    "            \n",
    "            \n",
    "\n",
    "        \n",
    "    "
   ]
  },
  {
   "cell_type": "code",
   "execution_count": 467,
   "metadata": {},
   "outputs": [],
   "source": [
    "l1 = List() \n"
   ]
  },
  {
   "cell_type": "code",
   "execution_count": 468,
   "metadata": {},
   "outputs": [
    {
     "data": {
      "text/plain": [
       "0"
      ]
     },
     "execution_count": 468,
     "metadata": {},
     "output_type": "execute_result"
    }
   ],
   "source": [
    "len(l1)"
   ]
  },
  {
   "cell_type": "code",
   "execution_count": 469,
   "metadata": {},
   "outputs": [],
   "source": [
    "l1.at_begin(1)\n",
    "l1.at_begin(2)\n",
    "l1.at_begin(3)\n",
    "l1.at_begin(4)"
   ]
  },
  {
   "cell_type": "code",
   "execution_count": 470,
   "metadata": {},
   "outputs": [],
   "source": [
    "l1.at_last(5)"
   ]
  },
  {
   "cell_type": "code",
   "execution_count": 471,
   "metadata": {},
   "outputs": [],
   "source": [
    "l1.in_between(2,6)"
   ]
  },
  {
   "cell_type": "code",
   "execution_count": 472,
   "metadata": {},
   "outputs": [
    {
     "name": "stdout",
     "output_type": "stream",
     "text": [
      "4\n",
      "3\n",
      "2\n",
      "1\n",
      "5\n",
      "2\n"
     ]
    }
   ],
   "source": [
    "l1.traverse()"
   ]
  },
  {
   "cell_type": "code",
   "execution_count": 473,
   "metadata": {},
   "outputs": [],
   "source": [
    "l1.del_last()"
   ]
  },
  {
   "cell_type": "code",
   "execution_count": 474,
   "metadata": {},
   "outputs": [],
   "source": [
    "l1.del_start()"
   ]
  },
  {
   "cell_type": "code",
   "execution_count": 475,
   "metadata": {},
   "outputs": [
    {
     "data": {
      "text/plain": [
       "1"
      ]
     },
     "execution_count": 475,
     "metadata": {},
     "output_type": "execute_result"
    }
   ],
   "source": [
    "l1.search(2)"
   ]
  },
  {
   "cell_type": "code",
   "execution_count": 476,
   "metadata": {},
   "outputs": [
    {
     "data": {
      "text/plain": [
       "2"
      ]
     },
     "execution_count": 476,
     "metadata": {},
     "output_type": "execute_result"
    }
   ],
   "source": [
    "l1.center()"
   ]
  },
  {
   "cell_type": "code",
   "execution_count": 477,
   "metadata": {},
   "outputs": [],
   "source": [
    "l1.reverse()"
   ]
  },
  {
   "cell_type": "code",
   "execution_count": 478,
   "metadata": {},
   "outputs": [
    {
     "name": "stdout",
     "output_type": "stream",
     "text": [
      "5\n",
      "1\n",
      "2\n",
      "3\n"
     ]
    }
   ],
   "source": [
    "l1.traverse()"
   ]
  },
  {
   "cell_type": "code",
   "execution_count": 480,
   "metadata": {},
   "outputs": [
    {
     "name": "stdout",
     "output_type": "stream",
     "text": [
      "2\n",
      "5 6\n",
      "8 4 5 6 7\n",
      "2 3 4 5 6 7\n",
      "C1\n",
      "asfg\n"
     ]
    },
    {
     "ename": "ValueError",
     "evalue": "invalid literal for int() with base 10: 'asfg'",
     "output_type": "error",
     "traceback": [
      "\u001b[1;31m---------------------------------------------------------------------------\u001b[0m",
      "\u001b[1;31mValueError\u001b[0m                                Traceback (most recent call last)",
      "\u001b[1;32m<ipython-input-480-75dc360e0dcd>\u001b[0m in \u001b[0;36m<module>\u001b[1;34m\u001b[0m\n\u001b[0;32m      3\u001b[0m \u001b[0mt\u001b[0m \u001b[1;33m=\u001b[0m \u001b[0mint\u001b[0m\u001b[1;33m(\u001b[0m\u001b[0minput\u001b[0m\u001b[1;33m(\u001b[0m\u001b[1;33m)\u001b[0m\u001b[1;33m)\u001b[0m\u001b[1;33m\u001b[0m\u001b[1;33m\u001b[0m\u001b[0m\n\u001b[0;32m      4\u001b[0m \u001b[1;32mwhile\u001b[0m \u001b[0mt\u001b[0m\u001b[1;33m>\u001b[0m\u001b[1;36m0\u001b[0m\u001b[1;33m:\u001b[0m\u001b[1;33m\u001b[0m\u001b[1;33m\u001b[0m\u001b[0m\n\u001b[1;32m----> 5\u001b[1;33m     \u001b[0mn\u001b[0m\u001b[1;33m,\u001b[0m\u001b[0mm\u001b[0m \u001b[1;33m=\u001b[0m \u001b[0mmap\u001b[0m\u001b[1;33m(\u001b[0m\u001b[0mint\u001b[0m\u001b[1;33m,\u001b[0m\u001b[0minput\u001b[0m\u001b[1;33m(\u001b[0m\u001b[1;33m)\u001b[0m\u001b[1;33m.\u001b[0m\u001b[0msplit\u001b[0m\u001b[1;33m(\u001b[0m\u001b[1;34m\" \"\u001b[0m\u001b[1;33m)\u001b[0m\u001b[1;33m)\u001b[0m\u001b[1;33m\u001b[0m\u001b[1;33m\u001b[0m\u001b[0m\n\u001b[0m\u001b[0;32m      6\u001b[0m     \u001b[0mc1\u001b[0m \u001b[1;33m=\u001b[0m \u001b[0mlist\u001b[0m\u001b[1;33m(\u001b[0m\u001b[0mmap\u001b[0m\u001b[1;33m(\u001b[0m\u001b[0mint\u001b[0m\u001b[1;33m,\u001b[0m\u001b[0minput\u001b[0m\u001b[1;33m(\u001b[0m\u001b[1;33m)\u001b[0m\u001b[1;33m.\u001b[0m\u001b[0msplit\u001b[0m\u001b[1;33m(\u001b[0m\u001b[1;34m\" \"\u001b[0m\u001b[1;33m)\u001b[0m\u001b[1;33m)\u001b[0m\u001b[1;33m)\u001b[0m\u001b[1;33m\u001b[0m\u001b[1;33m\u001b[0m\u001b[0m\n\u001b[0;32m      7\u001b[0m     \u001b[0mc2\u001b[0m \u001b[1;33m=\u001b[0m \u001b[0mlist\u001b[0m\u001b[1;33m(\u001b[0m\u001b[0mmap\u001b[0m\u001b[1;33m(\u001b[0m\u001b[0mint\u001b[0m\u001b[1;33m,\u001b[0m\u001b[0minput\u001b[0m\u001b[1;33m(\u001b[0m\u001b[1;33m)\u001b[0m\u001b[1;33m.\u001b[0m\u001b[0msplit\u001b[0m\u001b[1;33m(\u001b[0m\u001b[1;34m\" \"\u001b[0m\u001b[1;33m)\u001b[0m\u001b[1;33m)\u001b[0m\u001b[1;33m)\u001b[0m\u001b[1;33m\u001b[0m\u001b[1;33m\u001b[0m\u001b[0m\n",
      "\u001b[1;31mValueError\u001b[0m: invalid literal for int() with base 10: 'asfg'"
     ]
    }
   ],
   "source": [
    "\n",
    "\n",
    "\n",
    "\n"
   ]
  },
  {
   "cell_type": "code",
   "execution_count": 481,
   "metadata": {},
   "outputs": [
    {
     "name": "stdout",
     "output_type": "stream",
     "text": [
      "2\n",
      "geefgfgksforgfgeeks\n",
      "2\n",
      "dsajslsdlsfgf\n",
      "-1\n"
     ]
    }
   ],
   "source": []
  },
  {
   "cell_type": "code",
   "execution_count": 486,
   "metadata": {},
   "outputs": [
    {
     "data": {
      "text/plain": [
       "-1"
      ]
     },
     "execution_count": 486,
     "metadata": {},
     "output_type": "execute_result"
    }
   ],
   "source": []
  },
  {
   "cell_type": "code",
   "execution_count": null,
   "metadata": {},
   "outputs": [],
   "source": []
  }
 ],
 "metadata": {
  "kernelspec": {
   "display_name": "Python 3",
   "language": "python",
   "name": "python3"
  },
  "language_info": {
   "codemirror_mode": {
    "name": "ipython",
    "version": 3
   },
   "file_extension": ".py",
   "mimetype": "text/x-python",
   "name": "python",
   "nbconvert_exporter": "python",
   "pygments_lexer": "ipython3",
   "version": "3.7.3"
  }
 },
 "nbformat": 4,
 "nbformat_minor": 2
}
