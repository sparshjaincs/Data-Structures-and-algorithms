{
 "cells": [
  {
   "cell_type": "markdown",
   "metadata": {},
   "source": [
    "## It is a linear data structure that is basically a collection of data elements in which each data element is connected with each other with the help of links.\n",
    "Links are basically a pointer which points to another data element\n",
    "\n",
    "Data elements is composed of two parts.\n",
    "1. Data Part : Used to store information.\n",
    "2. Link Part : Stores the address of next data element.\n",
    "    \n",
    "    \n",
    "Time Complexity:\n",
    "    1. Insertion : o(1)\n",
    "    2. Deletion  : o(1)\n",
    "    3. Searching : o(n)\n",
    "    4. Access    : o(n)\n",
    "        \n",
    "1. Dynamic in nature.\n",
    "2. No Memory wastage\n",
    "3. Random access of elements is not possible.\n",
    "4. Reversing of linked list is very costly.\n",
    "5. Quick sort is not used for sorting because linked list has slow random access locality thats why we use merge sort instead of quick sort.\n",
    "6. Requires for more memory for construction since each data elements has two parts.\n",
    "\n",
    "\n"
   ]
  },
  {
   "cell_type": "markdown",
   "metadata": {},
   "source": [
    "#### Implementation"
   ]
  },
  {
   "cell_type": "code",
   "execution_count": 64,
   "metadata": {},
   "outputs": [],
   "source": [
    "class Node:\n",
    "    def __init__(self,data):\n",
    "        self.data = data\n",
    "        self.next = None\n",
    "        \n",
    "        \n",
    "class List:\n",
    "    def __init__(self):\n",
    "        self.head = None\n",
    "        self.size = 0\n",
    "        \n",
    "    def __len__(self):\n",
    "        return self.size\n",
    "    \n",
    "    def traverse(self):\n",
    "        curr = self.head\n",
    "        while curr:\n",
    "            print(curr.data)\n",
    "            curr = curr.next\n",
    "            \n",
    "    def at_begin(self,data):  #-> Insertion at beginning\n",
    "        new_node = Node(data)\n",
    "        if self.head is None:\n",
    "            self.head = new_node\n",
    "        else:\n",
    "            new_node.next = self.head\n",
    "            self.head = new_node\n",
    "        self.size+=1\n",
    "            \n",
    "    def at_last(self,data):  #-> Insertion at last\n",
    "        new_node = Node(data)\n",
    "        if self.head is None:\n",
    "            self.head = new_node\n",
    "        else:\n",
    "            curr = self.head\n",
    "            while curr.next:\n",
    "                curr = curr.next\n",
    "                \n",
    "            curr.next = new_node\n",
    "        self.size +=1\n",
    "        \n",
    "            \n",
    "    def in_between(self,data,position):  #--> Insertion in between\n",
    "        new_node = Node(data)\n",
    "        if self.head is None:\n",
    "            self.head = new_node\n",
    "        else:\n",
    "            curr = prev = self.head\n",
    "            counter = 0\n",
    "            while curr:\n",
    "                counter+=1\n",
    "                if counter == position:\n",
    "                    break\n",
    "                \n",
    "                prev = curr\n",
    "                curr = curr.next\n",
    "                \n",
    "            new_node.next = prev.next\n",
    "            prev.next = new_node\n",
    "        self.size+=1\n",
    "        \n",
    "    def del_last(self):  #-. Delete Last\n",
    "        if self.head is None:\n",
    "            return \"Can't Delete from empty list\"\n",
    "        else:\n",
    "            if self.size == 1:\n",
    "                self.head = None\n",
    "                self.size-=1\n",
    "                return\n",
    "            curr = prev= self.head\n",
    "            while curr.next:\n",
    "                prev = curr\n",
    "                curr = curr.next\n",
    "            prev.next = None\n",
    "            self.size -=1\n",
    "        \n",
    "    def del_start(self):\n",
    "        if self.head is None:\n",
    "            return \"Can't Delete from empty list\"\n",
    "        else:\n",
    "            self.head = self.head.next\n",
    "            self.size-=1\n",
    "            \n",
    "    def search(self,data):\n",
    "        if self.head is None:\n",
    "            return \"Can't search is empty List\"\n",
    "        else:\n",
    "            curr = self.head\n",
    "            counter = 0\n",
    "            while curr:\n",
    "                if curr.data == data:\n",
    "                    \n",
    "                    return counter\n",
    "                counter+=1\n",
    "                curr = curr.next\n",
    "            return 'Not Found'\n",
    "        \n",
    "    def center(self):\n",
    "        slow = fast = self.head\n",
    "        while fast.next  and fast.next.next:\n",
    "            slow = slow.next\n",
    "            fast = fast.next.next\n",
    "        return slow.data\n",
    "    \n",
    "    def reverse(self):\n",
    "        prev = None\n",
    "        curr=self.head\n",
    "        while curr:\n",
    "            next1 = curr.next\n",
    "            curr.next = prev\n",
    "            prev = curr\n",
    "            curr = next1\n",
    "        self.head = prev\n",
    "        \n",
    "        \n",
    "        \n",
    "        \n",
    "    #----------------- Merge Sort ------------------------------------\n",
    "    \n",
    "    def get_middle(self,n):\n",
    "        slow = fast = n\n",
    "        while fast.next and fast.next.next:\n",
    "            slow = slow.next\n",
    "            fast = fast.next.next\n",
    "        return slow\n",
    "    def sort(self,a,b):\n",
    "        if a is None:\n",
    "            return b\n",
    "        if b is None:\n",
    "            return a\n",
    "        if a.data < b.data:\n",
    "            result = a\n",
    "            result.next = self.sort(a.next,b)\n",
    "        else:\n",
    "            result = b\n",
    "            result.next = self.sort(a,b.next)\n",
    "        return result\n",
    "    def merge(self,Node):\n",
    "        if Node is None or Node.next is None:\n",
    "            return Node\n",
    "        else:\n",
    "            middle = self.get_middle(Node)\n",
    "            n_m = middle.next\n",
    "            middle.next = None\n",
    "            left = self.merge(middle)\n",
    "            right = self.merge(n_m)\n",
    "            sort = self.sort(left,right)\n",
    "            \n",
    "            \n",
    "        \n",
    "    \n",
    "        \n",
    "    \n",
    "        \n",
    "            \n",
    "        \n",
    "        \n",
    "                \n",
    "        \n",
    "            \n",
    "            \n",
    "            \n",
    "\n",
    "        \n",
    "    "
   ]
  },
  {
   "cell_type": "code",
   "execution_count": 65,
   "metadata": {},
   "outputs": [],
   "source": [
    "l1 = List() \n"
   ]
  },
  {
   "cell_type": "code",
   "execution_count": 68,
   "metadata": {},
   "outputs": [
    {
     "data": {
      "text/plain": [
       "4"
      ]
     },
     "execution_count": 68,
     "metadata": {},
     "output_type": "execute_result"
    }
   ],
   "source": [
    "len(l1)"
   ]
  },
  {
   "cell_type": "code",
   "execution_count": 67,
   "metadata": {},
   "outputs": [],
   "source": [
    "l1.at_begin(1)\n",
    "l1.at_begin(2)\n",
    "l1.at_begin(3)\n",
    "l1.at_begin(4)"
   ]
  },
  {
   "cell_type": "code",
   "execution_count": 69,
   "metadata": {},
   "outputs": [],
   "source": [
    "l1.at_last(5)"
   ]
  },
  {
   "cell_type": "code",
   "execution_count": 70,
   "metadata": {},
   "outputs": [],
   "source": [
    "l1.in_between(2,6)"
   ]
  },
  {
   "cell_type": "code",
   "execution_count": 71,
   "metadata": {},
   "outputs": [
    {
     "name": "stdout",
     "output_type": "stream",
     "text": [
      "4\n",
      "3\n",
      "2\n",
      "1\n",
      "5\n",
      "2\n"
     ]
    }
   ],
   "source": [
    "l1.traverse()"
   ]
  },
  {
   "cell_type": "code",
   "execution_count": 50,
   "metadata": {},
   "outputs": [],
   "source": [
    "l1.del_last()"
   ]
  },
  {
   "cell_type": "code",
   "execution_count": 51,
   "metadata": {},
   "outputs": [],
   "source": [
    "l1.del_start()"
   ]
  },
  {
   "cell_type": "code",
   "execution_count": 52,
   "metadata": {},
   "outputs": [
    {
     "data": {
      "text/plain": [
       "1"
      ]
     },
     "execution_count": 52,
     "metadata": {},
     "output_type": "execute_result"
    }
   ],
   "source": [
    "l1.search(2)"
   ]
  },
  {
   "cell_type": "code",
   "execution_count": 53,
   "metadata": {},
   "outputs": [
    {
     "data": {
      "text/plain": [
       "2"
      ]
     },
     "execution_count": 53,
     "metadata": {},
     "output_type": "execute_result"
    }
   ],
   "source": [
    "l1.center()"
   ]
  },
  {
   "cell_type": "code",
   "execution_count": 54,
   "metadata": {},
   "outputs": [],
   "source": [
    "l1.reverse()"
   ]
  },
  {
   "cell_type": "code",
   "execution_count": 58,
   "metadata": {},
   "outputs": [
    {
     "name": "stdout",
     "output_type": "stream",
     "text": [
      "5\n",
      "1\n"
     ]
    }
   ],
   "source": [
    "l1.traverse()"
   ]
  },
  {
   "cell_type": "code",
   "execution_count": 73,
   "metadata": {},
   "outputs": [],
   "source": [
    "l1.merge(l1.head)\n",
    "\n",
    "\n",
    "\n"
   ]
  },
  {
   "cell_type": "code",
   "execution_count": 74,
   "metadata": {},
   "outputs": [
    {
     "name": "stdout",
     "output_type": "stream",
     "text": [
      "4\n",
      "3\n",
      "2\n"
     ]
    }
   ],
   "source": [
    "l1.traverse()"
   ]
  },
  {
   "cell_type": "code",
   "execution_count": null,
   "metadata": {},
   "outputs": [],
   "source": []
  },
  {
   "cell_type": "code",
   "execution_count": null,
   "metadata": {},
   "outputs": [],
   "source": []
  }
 ],
 "metadata": {
  "kernelspec": {
   "display_name": "Python 3",
   "language": "python",
   "name": "python3"
  },
  "language_info": {
   "codemirror_mode": {
    "name": "ipython",
    "version": 3
   },
   "file_extension": ".py",
   "mimetype": "text/x-python",
   "name": "python",
   "nbconvert_exporter": "python",
   "pygments_lexer": "ipython3",
   "version": "3.7.3"
  }
 },
 "nbformat": 4,
 "nbformat_minor": 2
}
