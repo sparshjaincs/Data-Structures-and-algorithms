{
 "cells": [
  {
   "cell_type": "code",
   "execution_count": 2,
   "metadata": {},
   "outputs": [
    {
     "data": {
      "text/plain": [
       "5"
      ]
     },
     "execution_count": 2,
     "metadata": {},
     "output_type": "execute_result"
    }
   ],
   "source": [
    "# Greedy Algorithm\n",
    "# approach for finding the optimal solution\n",
    "# Build up a solution piece by piece\n",
    "# always choosing the next piece that offers the most obvious and immediate benefit\n",
    "\n",
    "\n",
    "# largest number\n",
    "\n",
    "def largest(n):\n",
    "    s=0\n",
    "    for i in n:\n",
    "        if i>s:\n",
    "            s=i\n",
    "    return s\n",
    "\n",
    "largest([1,2,3,4,5])"
   ]
  },
  {
   "cell_type": "code",
   "execution_count": null,
   "metadata": {},
   "outputs": [],
   "source": [
    "# largest and second largest\n",
    "\n",
    "def second(num):\n",
    "    lar = 0\n",
    "    sm = lar\n",
    "    for i in range(len(num)):\n",
    "        \n",
    "\n",
    "n = [1,2,3,4,5]\n",
    "second(n)\n",
    "    "
   ]
  }
 ],
 "metadata": {
  "kernelspec": {
   "display_name": "Python 3",
   "language": "python",
   "name": "python3"
  },
  "language_info": {
   "codemirror_mode": {
    "name": "ipython",
    "version": 3
   },
   "file_extension": ".py",
   "mimetype": "text/x-python",
   "name": "python",
   "nbconvert_exporter": "python",
   "pygments_lexer": "ipython3",
   "version": "3.7.3"
  }
 },
 "nbformat": 4,
 "nbformat_minor": 2
}
