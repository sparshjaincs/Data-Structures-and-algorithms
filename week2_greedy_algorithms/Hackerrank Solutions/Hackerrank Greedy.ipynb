{
 "cells": [
  {
   "cell_type": "markdown",
   "metadata": {},
   "source": [
    "#### Problem Largest Permutation\n",
    "# https://www.hackerrank.com/challenges/largest-permutation/problem"
   ]
  },
  {
   "cell_type": "code",
   "execution_count": 4,
   "metadata": {},
   "outputs": [
    {
     "data": {
      "text/plain": [
       "[4, 2, 3, 1]"
      ]
     },
     "execution_count": 4,
     "metadata": {},
     "output_type": "execute_result"
    }
   ],
   "source": [
    "def largest(n,arr,swap):\n",
    "    i=0\n",
    "    while swap>0:\n",
    "        index = arr.index(max(arr[i:]))\n",
    "        arr[i],arr[index] = arr[index],arr[i]\n",
    "        i+=1\n",
    "        swap-=1\n",
    "    return arr\n",
    "n=4\n",
    "swap = 1\n",
    "arr = [1,2,3,4]\n",
    "largest(n,arr,swap)"
   ]
  },
  {
   "cell_type": "code",
   "execution_count": null,
   "metadata": {},
   "outputs": [],
   "source": []
  }
 ],
 "metadata": {
  "kernelspec": {
   "display_name": "Python 3",
   "language": "python",
   "name": "python3"
  },
  "language_info": {
   "codemirror_mode": {
    "name": "ipython",
    "version": 3
   },
   "file_extension": ".py",
   "mimetype": "text/x-python",
   "name": "python",
   "nbconvert_exporter": "python",
   "pygments_lexer": "ipython3",
   "version": "3.7.3"
  }
 },
 "nbformat": 4,
 "nbformat_minor": 2
}
